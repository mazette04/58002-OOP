{
  "nbformat": 4,
  "nbformat_minor": 0,
  "metadata": {
    "colab": {
      "provenance": [],
      "authorship_tag": "ABX9TyOgk1iY83s7NqKNk12ZkrIl",
      "include_colab_link": true
    },
    "kernelspec": {
      "name": "python3",
      "display_name": "Python 3"
    },
    "language_info": {
      "name": "python"
    }
  },
  "cells": [
    {
      "cell_type": "markdown",
      "metadata": {
        "id": "view-in-github",
        "colab_type": "text"
      },
      "source": [
        "<a href=\"https://colab.research.google.com/github/mazette04/58002-OOP/blob/main/Fundamentals_of_Python.ipynb\" target=\"_parent\"><img src=\"https://colab.research.google.com/assets/colab-badge.svg\" alt=\"Open In Colab\"/></a>"
      ]
    },
    {
      "cell_type": "markdown",
      "source": [
        "Indentation"
      ],
      "metadata": {
        "id": "41OtkqjmRK9Q"
      }
    },
    {
      "cell_type": "code",
      "execution_count": 1,
      "metadata": {
        "colab": {
          "base_uri": "https://localhost:8080/"
        },
        "id": "lvHjlGCNRA1o",
        "outputId": "f201356f-ec69-43b5-af2a-6c61fc142409"
      },
      "outputs": [
        {
          "output_type": "stream",
          "name": "stdout",
          "text": [
            "5>2\n"
          ]
        }
      ],
      "source": [
        "if 5>2:\n",
        "  print('5>2')"
      ]
    },
    {
      "cell_type": "markdown",
      "source": [
        "Python Comment"
      ],
      "metadata": {
        "id": "z24iE9ZVSVAG"
      }
    },
    {
      "cell_type": "code",
      "source": [
        "#This is a comment\n",
        "print(\"Hello, world\")"
      ],
      "metadata": {
        "id": "w4a4JJhYSWtl"
      },
      "execution_count": null,
      "outputs": []
    },
    {
      "cell_type": "markdown",
      "source": [
        "Python Variable"
      ],
      "metadata": {
        "id": "pIk4U0DjSsJe"
      }
    },
    {
      "cell_type": "code",
      "source": [
        "#Single value with single variable\n",
        "x = 1\n",
        "\n",
        "#Single variable with multiple values\n",
        "array = [1,2,3]\n",
        "print (array)\n",
        "\n",
        "#Multiple variables with single value\n",
        "\n",
        "a = b= c= \"Maria\"\n",
        "print(a,b)\n",
        "print(b)\n",
        "print(c)"
      ],
      "metadata": {
        "colab": {
          "base_uri": "https://localhost:8080/"
        },
        "id": "CpYNns_qTSt2",
        "outputId": "ad81d9c5-cd5e-4581-cf86-72e5dfafa6b1"
      },
      "execution_count": 4,
      "outputs": [
        {
          "output_type": "stream",
          "name": "stdout",
          "text": [
            "[1, 2, 3]\n",
            "Maria Maria\n",
            "Maria\n",
            "Maria\n"
          ]
        }
      ]
    },
    {
      "cell_type": "markdown",
      "source": [
        "Casting"
      ],
      "metadata": {
        "id": "jS-oYWBfU0PR"
      }
    },
    {
      "cell_type": "code",
      "source": [
        "n = int(4)\n",
        "print(n)"
      ],
      "metadata": {
        "colab": {
          "base_uri": "https://localhost:8080/"
        },
        "id": "my9nJKBtU2Xl",
        "outputId": "facc51de-4b94-4e84-c718-b180ba9188ff"
      },
      "execution_count": 5,
      "outputs": [
        {
          "output_type": "stream",
          "name": "stdout",
          "text": [
            "4\n"
          ]
        }
      ]
    },
    {
      "cell_type": "markdown",
      "source": [
        " Type() function"
      ],
      "metadata": {
        "id": "KibhsSRhVCu-"
      }
    },
    {
      "cell_type": "code",
      "source": [
        "c = 'Sally'\n",
        "d = 5.6\n",
        "\n",
        "print(type(c))\n",
        "print(type(d))"
      ],
      "metadata": {
        "colab": {
          "base_uri": "https://localhost:8080/"
        },
        "id": "-Qiix0rCVFC_",
        "outputId": "09f29d7e-b5b0-476c-e321-72d841703e5e"
      },
      "execution_count": 8,
      "outputs": [
        {
          "output_type": "stream",
          "name": "stdout",
          "text": [
            "<class 'str'>\n",
            "<class 'float'>\n"
          ]
        }
      ]
    }
  ]
}